{
 "cells": [
  {
   "cell_type": "markdown",
   "id": "54f40b90",
   "metadata": {},
   "source": [
    "### Download from google drive"
   ]
  },
  {
   "cell_type": "code",
   "execution_count": 1,
   "id": "301f3277",
   "metadata": {},
   "outputs": [],
   "source": [
    "import gdown"
   ]
  },
  {
   "cell_type": "code",
   "execution_count": 2,
   "id": "df71c074",
   "metadata": {},
   "outputs": [],
   "source": [
    "url = \"https://drive.google.com/file/d/1U6-hp-ikn-t6AZqSA0B4HinA_4aSlmg8/view?usp=drive_link\""
   ]
  },
  {
   "cell_type": "code",
   "execution_count": 3,
   "id": "49b5b38b",
   "metadata": {},
   "outputs": [
    {
     "data": {
      "text/plain": [
       "str"
      ]
     },
     "execution_count": 3,
     "metadata": {},
     "output_type": "execute_result"
    }
   ],
   "source": [
    "type(url)  # This line is just to ensure the URL is processed correctly"
   ]
  },
  {
   "cell_type": "code",
   "execution_count": 4,
   "id": "a59ee7e2",
   "metadata": {},
   "outputs": [],
   "source": [
    "# extracting the file ID from the URL\n",
    "file_id = url.split('/')[5]"
   ]
  },
  {
   "cell_type": "code",
   "execution_count": 5,
   "id": "5c99d274",
   "metadata": {},
   "outputs": [
    {
     "data": {
      "text/plain": [
       "'1U6-hp-ikn-t6AZqSA0B4HinA_4aSlmg8'"
      ]
     },
     "execution_count": 5,
     "metadata": {},
     "output_type": "execute_result"
    }
   ],
   "source": [
    "file_id"
   ]
  },
  {
   "cell_type": "code",
   "execution_count": 7,
   "id": "b4e3d048",
   "metadata": {},
   "outputs": [
    {
     "name": "stderr",
     "output_type": "stream",
     "text": [
      "Downloading...\n",
      "From: https://drive.google.com/uc?/export=download&id=1U6-hp-ikn-t6AZqSA0B4HinA_4aSlmg8\n",
      "To: /Users/davidibrahim/Programming/krishnaikcourse/chestdiseasepred/research/Chest-CT-Scan-data.zip\n",
      "100%|██████████| 6.43M/6.43M [00:00<00:00, 37.1MB/s]\n"
     ]
    },
    {
     "data": {
      "text/plain": [
       "'Chest-CT-Scan-data.zip'"
      ]
     },
     "execution_count": 7,
     "metadata": {},
     "output_type": "execute_result"
    }
   ],
   "source": [
    "prefix = 'https://drive.google.com/uc?/export=download&id='\n",
    "gdown.download(prefix+file_id, \"Chest-CT-Scan-data.zip\")"
   ]
  },
  {
   "cell_type": "code",
   "execution_count": null,
   "id": "16f4e27f",
   "metadata": {},
   "outputs": [],
   "source": []
  }
 ],
 "metadata": {
  "kernelspec": {
   "display_name": "venv",
   "language": "python",
   "name": "python3"
  },
  "language_info": {
   "codemirror_mode": {
    "name": "ipython",
    "version": 3
   },
   "file_extension": ".py",
   "mimetype": "text/x-python",
   "name": "python",
   "nbconvert_exporter": "python",
   "pygments_lexer": "ipython3",
   "version": "3.13.5"
  }
 },
 "nbformat": 4,
 "nbformat_minor": 5
}
